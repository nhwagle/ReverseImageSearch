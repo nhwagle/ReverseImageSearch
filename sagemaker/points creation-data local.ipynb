{
 "cells": [
  {
   "cell_type": "code",
   "execution_count": 1,
   "metadata": {},
   "outputs": [
    {
     "name": "stderr",
     "output_type": "stream",
     "text": [
      "Using TensorFlow backend.\n"
     ]
    }
   ],
   "source": [
    "import numpy as np\n",
    "import pandas as pd\n",
    "import keras\n",
    "import imageio\n",
    "import os\n",
    "import sagemaker\n",
    "import matplotlib.pyplot as plt\n",
    "from keras.applications import VGG16,ResNet50\n",
    "from keras.models import Model\n",
    "from keras.optimizers import Adam\n",
    "from keras.preprocessing import image\n",
    "from PIL import Image\n",
    "from sklearn.neighbors import NearestNeighbors\n",
    "from glob import glob"
   ]
  },
  {
   "cell_type": "code",
   "execution_count": 2,
   "metadata": {},
   "outputs": [],
   "source": [
    "import boto3,urllib.request\n",
    "from sagemaker import get_execution_role"
   ]
  },
  {
   "cell_type": "code",
   "execution_count": 3,
   "metadata": {},
   "outputs": [],
   "source": [
    "s3_bucket = 'narayani1'\n",
    "prefix = 'reverseimagesearch'"
   ]
  },
  {
   "cell_type": "code",
   "execution_count": 4,
   "metadata": {},
   "outputs": [],
   "source": [
    "sagemaker_session = sagemaker.Session()\n",
    "role = get_execution_role()"
   ]
  },
  {
   "cell_type": "code",
   "execution_count": 5,
   "metadata": {},
   "outputs": [],
   "source": [
    "rootdir = os.getcwd()"
   ]
  },
  {
   "cell_type": "code",
   "execution_count": 6,
   "metadata": {},
   "outputs": [
    {
     "data": {
      "text/plain": [
       "'/home/ec2-user/SageMaker/ut-zap50k-images-square'"
      ]
     },
     "execution_count": 6,
     "metadata": {},
     "output_type": "execute_result"
    }
   ],
   "source": [
    "datadir = os.path.join(os.getcwd(),'ut-zap50k-images-square')\n",
    "datadir"
   ]
  },
  {
   "cell_type": "code",
   "execution_count": null,
   "metadata": {},
   "outputs": [],
   "source": []
  },
  {
   "cell_type": "code",
   "execution_count": 7,
   "metadata": {},
   "outputs": [
    {
     "name": "stdout",
     "output_type": "stream",
     "text": [
      "CPU times: user 375 ms, sys: 174 ms, total: 549 ms\n",
      "Wall time: 2.04 s\n"
     ]
    }
   ],
   "source": [
    "%%time\n",
    "pic_paths = []\n",
    "pic_paths = [y for x in os.walk(datadir) for y in glob(os.path.join(x[0], '*.jpg'))]"
   ]
  },
  {
   "cell_type": "code",
   "execution_count": 8,
   "metadata": {},
   "outputs": [
    {
     "name": "stderr",
     "output_type": "stream",
     "text": [
      "WARNING: Logging before flag parsing goes to stderr.\n",
      "W0813 16:37:11.892215 140188081870656 deprecation_wrapper.py:119] From /home/ec2-user/anaconda3/envs/tensorflow_p36/lib/python3.6/site-packages/keras/backend/tensorflow_backend.py:74: The name tf.get_default_graph is deprecated. Please use tf.compat.v1.get_default_graph instead.\n",
      "\n",
      "W0813 16:37:11.917585 140188081870656 deprecation_wrapper.py:119] From /home/ec2-user/anaconda3/envs/tensorflow_p36/lib/python3.6/site-packages/keras/backend/tensorflow_backend.py:517: The name tf.placeholder is deprecated. Please use tf.compat.v1.placeholder instead.\n",
      "\n",
      "W0813 16:37:11.920557 140188081870656 deprecation_wrapper.py:119] From /home/ec2-user/anaconda3/envs/tensorflow_p36/lib/python3.6/site-packages/keras/backend/tensorflow_backend.py:4138: The name tf.random_uniform is deprecated. Please use tf.random.uniform instead.\n",
      "\n",
      "W0813 16:37:11.952161 140188081870656 deprecation_wrapper.py:119] From /home/ec2-user/anaconda3/envs/tensorflow_p36/lib/python3.6/site-packages/keras/backend/tensorflow_backend.py:3976: The name tf.nn.max_pool is deprecated. Please use tf.nn.max_pool2d instead.\n",
      "\n",
      "W0813 16:37:14.616735 140188081870656 deprecation_wrapper.py:119] From /home/ec2-user/anaconda3/envs/tensorflow_p36/lib/python3.6/site-packages/keras/backend/tensorflow_backend.py:174: The name tf.get_default_session is deprecated. Please use tf.compat.v1.get_default_session instead.\n",
      "\n",
      "W0813 16:37:14.617854 140188081870656 deprecation_wrapper.py:119] From /home/ec2-user/anaconda3/envs/tensorflow_p36/lib/python3.6/site-packages/keras/backend/tensorflow_backend.py:184: The name tf.ConfigProto is deprecated. Please use tf.compat.v1.ConfigProto instead.\n",
      "\n"
     ]
    }
   ],
   "source": [
    "model = VGG16(weights='imagenet',include_top=True)"
   ]
  },
  {
   "cell_type": "code",
   "execution_count": 9,
   "metadata": {},
   "outputs": [],
   "source": [
    "def make_preds(smaller_set):\n",
    "    images = [imageio.imread(i) for i in smaller_set]\n",
    "    ims = np.array([np.array(Image.fromarray(i).resize((224,224))) for i in images])\n",
    "    out = model.predict(ims) # (500,1000) np array\n",
    "    return out"
   ]
  },
  {
   "cell_type": "code",
   "execution_count": 19,
   "metadata": {},
   "outputs": [
    {
     "name": "stdout",
     "output_type": "stream",
     "text": [
      "CPU times: user 19min 14s, sys: 1.61 s, total: 19min 15s\n",
      "Wall time: 9min 48s\n"
     ]
    }
   ],
   "source": [
    "%%time\n",
    "total = len(pic_paths) #s3\n",
    "s = 500\n",
    "df = pd.DataFrame()\n",
    "for i in range(0,total//s+1):\n",
    "    start = i*s\n",
    "    fin = start + s\n",
    "    if fin > total:\n",
    "        fin = total\n",
    "    smaller_set = [pic_paths[j] for j in range(start,fin)]\n",
    "    #call predict\n",
    "    if i < 5:\n",
    "        out = make_preds(smaller_set)\n",
    "        df = df.append(pd.DataFrame(out))"
   ]
  },
  {
   "cell_type": "code",
   "execution_count": 21,
   "metadata": {},
   "outputs": [
    {
     "data": {
      "text/html": [
       "<div>\n",
       "<style scoped>\n",
       "    .dataframe tbody tr th:only-of-type {\n",
       "        vertical-align: middle;\n",
       "    }\n",
       "\n",
       "    .dataframe tbody tr th {\n",
       "        vertical-align: top;\n",
       "    }\n",
       "\n",
       "    .dataframe thead th {\n",
       "        text-align: right;\n",
       "    }\n",
       "</style>\n",
       "<table border=\"1\" class=\"dataframe\">\n",
       "  <thead>\n",
       "    <tr style=\"text-align: right;\">\n",
       "      <th></th>\n",
       "      <th>0</th>\n",
       "      <th>1</th>\n",
       "      <th>2</th>\n",
       "      <th>3</th>\n",
       "      <th>4</th>\n",
       "      <th>5</th>\n",
       "      <th>6</th>\n",
       "      <th>7</th>\n",
       "      <th>8</th>\n",
       "      <th>9</th>\n",
       "      <th>...</th>\n",
       "      <th>990</th>\n",
       "      <th>991</th>\n",
       "      <th>992</th>\n",
       "      <th>993</th>\n",
       "      <th>994</th>\n",
       "      <th>995</th>\n",
       "      <th>996</th>\n",
       "      <th>997</th>\n",
       "      <th>998</th>\n",
       "      <th>999</th>\n",
       "    </tr>\n",
       "  </thead>\n",
       "  <tbody>\n",
       "    <tr>\n",
       "      <th>0</th>\n",
       "      <td>3.220697e-08</td>\n",
       "      <td>2.502751e-09</td>\n",
       "      <td>2.844303e-09</td>\n",
       "      <td>1.881100e-08</td>\n",
       "      <td>5.179037e-08</td>\n",
       "      <td>1.577017e-06</td>\n",
       "      <td>6.437785e-08</td>\n",
       "      <td>2.946148e-10</td>\n",
       "      <td>7.299469e-10</td>\n",
       "      <td>1.217509e-10</td>\n",
       "      <td>...</td>\n",
       "      <td>9.076304e-09</td>\n",
       "      <td>3.834441e-10</td>\n",
       "      <td>6.874908e-10</td>\n",
       "      <td>1.405343e-10</td>\n",
       "      <td>5.700783e-10</td>\n",
       "      <td>1.494771e-09</td>\n",
       "      <td>7.525984e-09</td>\n",
       "      <td>2.905650e-10</td>\n",
       "      <td>5.604487e-09</td>\n",
       "      <td>4.010277e-09</td>\n",
       "    </tr>\n",
       "    <tr>\n",
       "      <th>1</th>\n",
       "      <td>1.302339e-10</td>\n",
       "      <td>6.792949e-12</td>\n",
       "      <td>2.747681e-11</td>\n",
       "      <td>2.127728e-10</td>\n",
       "      <td>6.190710e-10</td>\n",
       "      <td>1.239769e-08</td>\n",
       "      <td>1.786325e-10</td>\n",
       "      <td>2.964413e-11</td>\n",
       "      <td>8.101334e-12</td>\n",
       "      <td>3.588683e-12</td>\n",
       "      <td>...</td>\n",
       "      <td>2.958230e-10</td>\n",
       "      <td>5.204434e-11</td>\n",
       "      <td>3.162977e-11</td>\n",
       "      <td>1.254328e-12</td>\n",
       "      <td>1.482424e-10</td>\n",
       "      <td>6.223489e-11</td>\n",
       "      <td>6.425988e-09</td>\n",
       "      <td>1.408956e-11</td>\n",
       "      <td>4.245674e-09</td>\n",
       "      <td>2.050493e-07</td>\n",
       "    </tr>\n",
       "    <tr>\n",
       "      <th>2</th>\n",
       "      <td>1.615343e-12</td>\n",
       "      <td>4.141338e-14</td>\n",
       "      <td>3.280376e-14</td>\n",
       "      <td>5.823341e-13</td>\n",
       "      <td>2.300089e-13</td>\n",
       "      <td>7.145049e-10</td>\n",
       "      <td>7.127837e-12</td>\n",
       "      <td>2.804335e-14</td>\n",
       "      <td>2.236784e-13</td>\n",
       "      <td>9.203087e-16</td>\n",
       "      <td>...</td>\n",
       "      <td>3.696794e-12</td>\n",
       "      <td>7.967438e-15</td>\n",
       "      <td>2.975961e-14</td>\n",
       "      <td>6.757184e-15</td>\n",
       "      <td>9.723022e-14</td>\n",
       "      <td>5.682956e-13</td>\n",
       "      <td>2.725190e-12</td>\n",
       "      <td>3.868362e-14</td>\n",
       "      <td>1.406703e-12</td>\n",
       "      <td>2.517933e-12</td>\n",
       "    </tr>\n",
       "    <tr>\n",
       "      <th>3</th>\n",
       "      <td>4.982113e-09</td>\n",
       "      <td>1.770395e-10</td>\n",
       "      <td>8.950612e-11</td>\n",
       "      <td>2.123098e-09</td>\n",
       "      <td>2.098042e-10</td>\n",
       "      <td>3.178967e-07</td>\n",
       "      <td>4.105873e-09</td>\n",
       "      <td>4.191087e-10</td>\n",
       "      <td>4.551753e-09</td>\n",
       "      <td>3.688193e-11</td>\n",
       "      <td>...</td>\n",
       "      <td>8.658361e-09</td>\n",
       "      <td>5.523259e-11</td>\n",
       "      <td>2.236338e-10</td>\n",
       "      <td>2.219870e-10</td>\n",
       "      <td>5.428916e-10</td>\n",
       "      <td>1.035841e-09</td>\n",
       "      <td>3.742644e-08</td>\n",
       "      <td>3.588555e-10</td>\n",
       "      <td>9.360546e-09</td>\n",
       "      <td>7.689429e-09</td>\n",
       "    </tr>\n",
       "    <tr>\n",
       "      <th>4</th>\n",
       "      <td>5.817769e-13</td>\n",
       "      <td>2.678934e-14</td>\n",
       "      <td>1.389731e-13</td>\n",
       "      <td>1.029916e-12</td>\n",
       "      <td>6.243282e-13</td>\n",
       "      <td>3.587281e-09</td>\n",
       "      <td>4.271903e-10</td>\n",
       "      <td>4.284249e-14</td>\n",
       "      <td>3.562169e-13</td>\n",
       "      <td>9.383928e-15</td>\n",
       "      <td>...</td>\n",
       "      <td>5.826411e-12</td>\n",
       "      <td>2.067677e-14</td>\n",
       "      <td>3.140768e-13</td>\n",
       "      <td>1.273405e-13</td>\n",
       "      <td>1.464783e-13</td>\n",
       "      <td>2.409784e-12</td>\n",
       "      <td>5.642385e-11</td>\n",
       "      <td>9.518415e-13</td>\n",
       "      <td>1.401631e-12</td>\n",
       "      <td>4.042779e-12</td>\n",
       "    </tr>\n",
       "  </tbody>\n",
       "</table>\n",
       "<p>5 rows × 1000 columns</p>\n",
       "</div>"
      ],
      "text/plain": [
       "            0             1             2             3             4    \\\n",
       "0  3.220697e-08  2.502751e-09  2.844303e-09  1.881100e-08  5.179037e-08   \n",
       "1  1.302339e-10  6.792949e-12  2.747681e-11  2.127728e-10  6.190710e-10   \n",
       "2  1.615343e-12  4.141338e-14  3.280376e-14  5.823341e-13  2.300089e-13   \n",
       "3  4.982113e-09  1.770395e-10  8.950612e-11  2.123098e-09  2.098042e-10   \n",
       "4  5.817769e-13  2.678934e-14  1.389731e-13  1.029916e-12  6.243282e-13   \n",
       "\n",
       "            5             6             7             8             9    ...  \\\n",
       "0  1.577017e-06  6.437785e-08  2.946148e-10  7.299469e-10  1.217509e-10  ...   \n",
       "1  1.239769e-08  1.786325e-10  2.964413e-11  8.101334e-12  3.588683e-12  ...   \n",
       "2  7.145049e-10  7.127837e-12  2.804335e-14  2.236784e-13  9.203087e-16  ...   \n",
       "3  3.178967e-07  4.105873e-09  4.191087e-10  4.551753e-09  3.688193e-11  ...   \n",
       "4  3.587281e-09  4.271903e-10  4.284249e-14  3.562169e-13  9.383928e-15  ...   \n",
       "\n",
       "            990           991           992           993           994  \\\n",
       "0  9.076304e-09  3.834441e-10  6.874908e-10  1.405343e-10  5.700783e-10   \n",
       "1  2.958230e-10  5.204434e-11  3.162977e-11  1.254328e-12  1.482424e-10   \n",
       "2  3.696794e-12  7.967438e-15  2.975961e-14  6.757184e-15  9.723022e-14   \n",
       "3  8.658361e-09  5.523259e-11  2.236338e-10  2.219870e-10  5.428916e-10   \n",
       "4  5.826411e-12  2.067677e-14  3.140768e-13  1.273405e-13  1.464783e-13   \n",
       "\n",
       "            995           996           997           998           999  \n",
       "0  1.494771e-09  7.525984e-09  2.905650e-10  5.604487e-09  4.010277e-09  \n",
       "1  6.223489e-11  6.425988e-09  1.408956e-11  4.245674e-09  2.050493e-07  \n",
       "2  5.682956e-13  2.725190e-12  3.868362e-14  1.406703e-12  2.517933e-12  \n",
       "3  1.035841e-09  3.742644e-08  3.588555e-10  9.360546e-09  7.689429e-09  \n",
       "4  2.409784e-12  5.642385e-11  9.518415e-13  1.401631e-12  4.042779e-12  \n",
       "\n",
       "[5 rows x 1000 columns]"
      ]
     },
     "execution_count": 21,
     "metadata": {},
     "output_type": "execute_result"
    }
   ],
   "source": [
    "df.head()"
   ]
  },
  {
   "cell_type": "code",
   "execution_count": 23,
   "metadata": {},
   "outputs": [
    {
     "data": {
      "text/plain": [
       "'s3://narayani1/reverseimagesearch/points/points.csv'"
      ]
     },
     "execution_count": 23,
     "metadata": {},
     "output_type": "execute_result"
    }
   ],
   "source": [
    "df.to_csv('points.csv',header=None,index=None)\n",
    "sagemaker_session.upload_data(\n",
    "                            path=os.path.join(rootdir,'points.csv'),\n",
    "                            bucket=s3_bucket,\n",
    "                            key_prefix='{}/{}'.format(prefix,'points'))"
   ]
  }
 ],
 "metadata": {
  "kernelspec": {
   "display_name": "conda_tensorflow_p36",
   "language": "python",
   "name": "conda_tensorflow_p36"
  },
  "language_info": {
   "codemirror_mode": {
    "name": "ipython",
    "version": 3
   },
   "file_extension": ".py",
   "mimetype": "text/x-python",
   "name": "python",
   "nbconvert_exporter": "python",
   "pygments_lexer": "ipython3",
   "version": "3.6.5"
  }
 },
 "nbformat": 4,
 "nbformat_minor": 2
}
